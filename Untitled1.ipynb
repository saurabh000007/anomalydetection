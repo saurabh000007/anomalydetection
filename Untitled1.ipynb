{
 "cells": [
  {
   "cell_type": "code",
   "execution_count": 1,
   "id": "a9d06fee",
   "metadata": {},
   "outputs": [
    {
     "name": "stdout",
     "output_type": "stream",
     "text": [
      "1\n",
      "2\n",
      "6\n",
      "24\n",
      "120\n",
      "product is 120\n"
     ]
    }
   ],
   "source": [
    "l = [1,2,3,4,5]\n",
    "\n",
    "idx=0\n",
    "ans=1\n",
    "\n",
    "while idx<len(l):\n",
    "    ans*=l[idx]\n",
    "    idx+=1\n",
    "    print(ans)\n",
    "                      #if use break then alse block will not execute\n",
    "else:\n",
    "    print(\"product is {}\".format(ans))\n",
    "   "
   ]
  },
  {
   "cell_type": "code",
   "execution_count": null,
   "id": "64597a9c",
   "metadata": {},
   "outputs": [],
   "source": [
    "num = int(input(\"enter the number:\"))\n",
    "\n",
    "i=2\n",
    "isdivisible=False\n",
    "\n",
    "while i<num:\n",
    "    if num%i==0:\n",
    "        isdivisible=True;\n",
    "        print(\"{} is divisible by {}\".format(num , i))\n",
    "        i+=1;\n",
    "\n",
    "if isdivisible:\n",
    "    print(\"{} is not a prime number\".format(num))\n",
    "else:\n",
    "    print(\"{} is a prime number\".format(num))\n",
    "        \n",
    "    "
   ]
  },
  {
   "cell_type": "code",
   "execution_count": null,
   "id": "27a1d315",
   "metadata": {},
   "outputs": [],
   "source": [
    "a=10\n",
    "b=12\n",
    "print(\"{} ans {} are your no.\".format(a,b))"
   ]
  },
  {
   "cell_type": "code",
   "execution_count": null,
   "id": "56206bfe",
   "metadata": {},
   "outputs": [],
   "source": [
    "list = [1,2,3,4]\n",
    "\n",
    "ans=1;\n",
    "\n",
    "for ele in list:\n",
    "    ans*=ele\n",
    "    \n",
    "print(\"pro\")"
   ]
  }
 ],
 "metadata": {
  "kernelspec": {
   "display_name": "Python 3",
   "language": "python",
   "name": "python3"
  },
  "language_info": {
   "codemirror_mode": {
    "name": "ipython",
    "version": 3
   },
   "file_extension": ".py",
   "mimetype": "text/x-python",
   "name": "python",
   "nbconvert_exporter": "python",
   "pygments_lexer": "ipython3",
   "version": "3.8.8"
  }
 },
 "nbformat": 4,
 "nbformat_minor": 5
}
